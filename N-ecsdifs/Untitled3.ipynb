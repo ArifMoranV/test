{
 "cells": [
  {
   "cell_type": "code",
   "execution_count": 7,
   "id": "09994d6f-f3ae-4cf8-b99f-02f837efa85a",
   "metadata": {},
   "outputs": [
    {
     "data": {
      "text/plain": [
       "<Figure size 640x480 with 0 Axes>"
      ]
     },
     "metadata": {},
     "output_type": "display_data"
    }
   ],
   "source": [
    "import pandas as pd\n",
    "import matplotlib.pyplot as plt\n",
    "from matplotlib.animation import FuncAnimation\n",
    "import numpy as np\n",
    "\n",
    "def animate(i):\n",
    "    x = pd.read_csv(r'C:\\Users\\Arif\\OneDrive - Instituto Tecnologico y de Estudios Superiores de Monterrey\\Files\\Escuela\\Carrera\\N-ecsdifs\\xs1_matrix.csv').to_numpy()\n",
    "    z = pd.read_csv(r'C:\\Users\\Arif\\OneDrive - Instituto Tecnologico y de Estudios Superiores de Monterrey\\Files\\Escuela\\Carrera\\N-ecsdifs\\zs1_matrix.csv').to_numpy()\n",
    "\n",
    "    plt.cla()\n",
    "    plt.plot(x, z, label='m1')\n",
    "    plt.xlabel('X Axis Label')\n",
    "    plt.ylabel('Z Axis Label')\n",
    "    plt.title('Real-time Plot')\n",
    "    plt.legend(loc='upper left')\n",
    "    plt.tight_layout()\n",
    "\n",
    "ani = FuncAnimation(plt.gcf(), animate, interval=5000, save_count=100)\n",
    "plt.show()\n"
   ]
  },
  {
   "cell_type": "code",
   "execution_count": null,
   "id": "a997c213-98f6-4b56-9ff3-594b6b62159b",
   "metadata": {},
   "outputs": [],
   "source": []
  }
 ],
 "metadata": {
  "kernelspec": {
   "display_name": "Python 3 (ipykernel)",
   "language": "python",
   "name": "python3"
  },
  "language_info": {
   "codemirror_mode": {
    "name": "ipython",
    "version": 3
   },
   "file_extension": ".py",
   "mimetype": "text/x-python",
   "name": "python",
   "nbconvert_exporter": "python",
   "pygments_lexer": "ipython3",
   "version": "3.8.17"
  },
  "widgets": {
   "application/vnd.jupyter.widget-state+json": {
    "state": {},
    "version_major": 2,
    "version_minor": 0
   }
  }
 },
 "nbformat": 4,
 "nbformat_minor": 5
}
